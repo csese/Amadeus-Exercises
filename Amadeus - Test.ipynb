{
 "cells": [
  {
   "cell_type": "markdown",
   "metadata": {},
   "source": [
    "# Amadeus Hiring Test"
   ]
  },
  {
   "cell_type": "markdown",
   "metadata": {},
   "source": [
    "## First exercise: \n",
    "Count the number of lines in Python for each file"
   ]
  },
  {
   "cell_type": "code",
   "execution_count": 2,
   "metadata": {
    "collapsed": false
   },
   "outputs": [
    {
     "name": "stdout",
     "output_type": "stream",
     "text": [
      "The number of lines for bookings.csv is 10000011\n",
      "The number of lines for searches.csv is 20390199\n"
     ]
    }
   ],
   "source": [
    "def nbrLine(filename):\n",
    "    nLine = 0\n",
    "    with open(filename, \"r\") as f:\n",
    "        for line in f:\n",
    "            nLine += 1\n",
    "    return (nLine)\n",
    "\n",
    "print 'The number of lines for bookings.csv is' , nbrLine('./data/bookings.csv')\n",
    "print 'The number of lines for searches.csv is' , nbrLine('./data/searches.csv')"
   ]
  },
  {
   "cell_type": "markdown",
   "metadata": {},
   "source": [
    "## Second exercise: \n",
    "Top 10 arrival airports in the world in 2013 (using the bookings file) Arrival airport is the column arr_port. It is the IATA code for the airport To get the total number of passengers for an airport, you can sum the column pax, grouping by arr_port. Note that there is negative pax. That corresponds to cancelations. So to get the total number of passengers that have actually booked, you should sum including the negatives (that will remove the cancelled bookings).\n",
    "Print the top 10 arrival airports in the standard output, including the number of passengers.\n",
    "Bonus point: Get the name of the city or airport corresponding to that airport (programatically, we suggest to have a look at GeoBases in Github) Bonus point: Solve this problem using pandas (instead of any other approach)\n"
   ]
  },
  {
   "cell_type": "code",
   "execution_count": 3,
   "metadata": {
    "collapsed": false
   },
   "outputs": [
    {
     "name": "stdout",
     "output_type": "stream",
     "text": [
      "\n",
      "Top 10 arrival airports:\n",
      "   arr_port    pax                               airport\n",
      "0  LHR       88809               London Heathrow Airport\n",
      "1  MCO       70930         Orlando International Airport\n",
      "2  LAX       70530     Los Angeles International Airport\n",
      "3  LAS       69630       Mc Carran International Airport\n",
      "4  JFK       66270  John F Kennedy International Airport\n",
      "5  CDG       64490             Paris - Charles-de-Gaulle\n",
      "6  BKK       59460                          Suvarnabhumi\n",
      "7  MIA       58150           Miami International Airport\n",
      "8  SFO       58000   San Francisco International Airport\n"
     ]
    }
   ],
   "source": [
    "import pandas as pd\n",
    "from GeoBases import GeoBase\n",
    "\n",
    "def topAirports(filename, n = 10):\n",
    "    # Create an empty Dataframe to store the final results\n",
    "    paxArr = pd.DataFrame(columns=['arr_port','pax'])\n",
    "    # Create a TextFileReader in chunk to reduce the memory load\n",
    "    reader = pd.read_table(filename, sep='^', chunksize = 100000, usecols=['arr_port','pax'])\n",
    "    for chunk in reader:\n",
    "        # Format column names\n",
    "        chunk.columns = chunk.rename(columns=lambda x: x.strip()).columns.values\n",
    "        # Sum by arrival airport\n",
    "        paxArr = pd.concat([paxArr, chunk[['arr_port','pax']].groupby('arr_port').sum().reset_index()])\n",
    "    # Keep only the 10 top arrival airports and get their names\n",
    "    topAirport = paxArr[['arr_port','pax']].groupby('arr_port').sum().sort('pax', ascending = 0).reset_index()[0:(n-1)]\n",
    "    for k, airport in enumerate(topAirport['arr_port']):\n",
    "        topAirport.loc[k,'airport'] = geo_o.get(airport.strip(), 'name', default=\"Undefined\")\n",
    "    print \"\\nTop 10 arrival airports:\\n%s\" % topAirport\n",
    "    return(topAirport)\n",
    "\n",
    "geo_o = GeoBase(data='ori_por', verbose=False)\n",
    "topAirport = topAirports('./data/bookings.csv', 10)"
   ]
  },
  {
   "cell_type": "markdown",
   "metadata": {},
   "source": [
    "## Third exercise: \n",
    "Plot the monthly number of searches for flights arriving at Málaga, Madrid or Barcelona. For the arriving airport, you can use the Destination column in the searches file. Plot a curve for Málaga, another one for Madrid, and another one for Barcelona, in the same figure.\n",
    "Bonus point: Solving this problem using pandas (instead of any other approach)\n"
   ]
  },
  {
   "cell_type": "code",
   "execution_count": null,
   "metadata": {
    "collapsed": false
   },
   "outputs": [
    {
     "name": "stdout",
     "output_type": "stream",
     "text": [
      "2015-07-26 22:11:26 239000: Retrieving Data for Malaga\n",
      "2015-07-26 22:12:57 398000: Retrieving Data for Madrid"
     ]
    }
   ],
   "source": [
    "import pandas as pd\n",
    "import matplotlib.pyplot  as plt\n",
    "from datetime import datetime\n",
    "\n",
    "def log(msg):\n",
    "    # Create a log message with the datetime\n",
    "    print datetime.now().strftime(\"%Y-%m-%d %H:%M:%S %f\") + ': ' + msg\n",
    "\n",
    "def destinationAirport(filename, destination):\n",
    "    reader = pd.read_table(filename, sep='^', chunksize = 10000, usecols=['Date','Destination'])\n",
    "    totSearches = pd.DataFrame(columns = ['Month',destination])\n",
    "    i = 0\n",
    "    for chunk in reader:\n",
    "        chunk = chunk[chunk['Destination'] ==  destination]\n",
    "        chunk['Date']  = pd.to_datetime(chunk['Date'])\n",
    "        chunk['Month'] = chunk['Date'].dt.month\n",
    "        chunk = chunk.groupby(['Month'], as_index = False).count()\n",
    "        del chunk['Destination']\n",
    "        chunk.columns = ['Month',destination]\n",
    "        totSearches = pd.concat([totSearches, chunk])\n",
    "    totSearches = totSearches.groupby('Month').sum()\n",
    "    return totSearches\n",
    "\n",
    "filename = './data/searches.csv'\n",
    "log('Retrieving Data for Malaga')\n",
    "totMalaga = destinationAirport(filename, 'AGP')\n",
    "log('Retrieving Data for Madrid')\n",
    "totMadrid = destinationAirport(filename, 'MAD')\n",
    "log('Retrieving Data for Barcelona')\n",
    "totBarcelona = destinationAirport(filename, 'BCN')\n",
    "\n",
    "log('Plot the data')\n",
    "plt.plot(totMadrid)\n",
    "plt.plot(totMalaga)\n",
    "plt.plot(totBarcelona)\n",
    "\n",
    "#set plot attributes\n",
    "plt.legend(('Madrid','Malaga','Barcelona'))\n",
    "plt.xticks(range(12),\n",
    "           ['January', 'February', 'March', 'April', 'May', 'June', \n",
    "            'July','August','September','October','November','December'], \n",
    "           rotation=45)\n",
    "plt.xlabel('Month')\n",
    "plt.ylabel('Number of Searches')\n",
    "plt.grid()\n",
    "plt.show()"
   ]
  },
  {
   "cell_type": "markdown",
   "metadata": {},
   "source": [
    "# Fourth exercise: \n",
    "Match searches with bookings For every search in the searches file, find out whether the search ended up in a booking or not (using the info in the bookings file). For instance, search and booking origin and destination should match. For the bookings file, origin and destination are the columns dep_port and arr_port, respectively. Generate a CSV file with the search data, and an additional field, containing 1 if the search ended up in a booking, and 0 otherwise.\n",
    "Bonus point: Solving this problem using pandas (instead of any other approach)\n"
   ]
  },
  {
   "cell_type": "code",
   "execution_count": null,
   "metadata": {
    "collapsed": true
   },
   "outputs": [],
   "source": [
    "# In order to find out wheter a search ended up in a booking, I just used the origin and destination. \n",
    "# To have a first glimpse into the file, this is enough. Obviously, the user uniqueness need also to be certified. \n",
    "# This is not done here. \n",
    "\n",
    "import pandas as pd\n",
    "\n",
    "booking = pd.read_table('./data/bookings.csv', sep='^', chunksize = 10000)\n",
    "searches = pd.read_table('./data/searches.csv', sep='^', chunksize = 10000)\n",
    "\n",
    "bookingList = list()\n",
    "for chunkBooking in booking:\n",
    "    zipped = zip(map(str.strip, chunkBooking['dep_port']) , map(str.strip, chunkBooking['arr_port']))\n",
    "    bookingList.extend(zipped)\n",
    "    seen = set()\n",
    "    bookingList = [item for item in bookingList if item[1] not in seen and not seen.add(item[1])]\n",
    "\n",
    "searchesIndex = 0\n",
    "booked = list()\n",
    "for chunkSearches in searches:\n",
    "    for k in range(1,len(chunkSearches)):\n",
    "        searchesIndex += 1\n",
    "        bookedSearch = [False]*len(chunkSearches)\n",
    "        fromSearch = chunkSearches.ix[k, 'Origin']\n",
    "        toSearch = chunkSearches.ix[k, 'Destination']\n",
    "        if (fromSearch, toSearch) in bookingList:\n",
    "            booked.append(1)\n",
    "        else:\n",
    "            booked.append(0)\n",
    "\n",
    "pd.merge(searches, booked, how = 'left').to_csv(path='./data/searches_matched.csv')"
   ]
  }
 ],
 "metadata": {
  "kernelspec": {
   "display_name": "Python 2",
   "language": "python",
   "name": "python2"
  },
  "language_info": {
   "codemirror_mode": {
    "name": "ipython",
    "version": 2
   },
   "file_extension": ".py",
   "mimetype": "text/x-python",
   "name": "python",
   "nbconvert_exporter": "python",
   "pygments_lexer": "ipython2",
   "version": "2.7.8"
  }
 },
 "nbformat": 4,
 "nbformat_minor": 0
}
